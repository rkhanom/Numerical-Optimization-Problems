{
  "cells": [
    {
      "cell_type": "markdown",
      "metadata": {
        "id": "wN71Y88ihY4B"
      },
      "source": [
        " Dual methods"
      ]
    },
    {
      "cell_type": "markdown",
      "metadata": {
        "id": "bOk5-FHuhY4B"
      },
      "source": [
        "# Problem 1:  The conjugate and the dual\n",
        "Consider the \"monotropic\" program\n",
        "\\begin{align}\n",
        "\\text{minimize} & \\quad  \\|x\\|_\\infty \\\\\n",
        "\\text{subject to} & \\quad Ax=b . \\nonumber\n",
        "\\end{align}\n",
        "\n",
        "Write this as an unconstrained (or implicitly constrained) problem using the characteristic function of the zero vector $\\chi_0(z) .$  This function is zero if its argument is zero, and infinite otherwise.\n",
        "\n"
      ]
    },
    {
      "cell_type": "markdown",
      "metadata": {
        "id": "DpTdi_4BhY4C"
      },
      "source": [
        "`Your answer here...`\n",
        "$$minimize\\|x\\|_\\infty + \\chi_0(Ax-b) $$\n"
      ]
    },
    {
      "cell_type": "markdown",
      "metadata": {
        "id": "i35ka1VkhY4C"
      },
      "source": [
        "#### a) What is the conjugate of $f(z)= \\|z\\|_\\infty$?"
      ]
    },
    {
      "cell_type": "markdown",
      "metadata": {
        "id": "8vJ6HlU1hY4C"
      },
      "source": [
        "`Your answer here...`\n",
        "\n",
        "$f^*(y) = \\chi_1(y),$ the characteristic function of the 1-norm ball, This function is 0 if $ ||y||_1<=1  and \\ ∞ $ otherwise"
      ]
    },
    {
      "cell_type": "markdown",
      "metadata": {
        "id": "vSrSZwZphY4C"
      },
      "source": [
        "#### b) What is the conjugate of $g(z)=\\chi_0(z)$?"
      ]
    },
    {
      "cell_type": "markdown",
      "metadata": {
        "id": "q3TPxQKKhY4D"
      },
      "source": [
        "$$g^*(y) = \\max_z y^Tz  - \\chi_0(z).$$\n",
        "which attains its maximum at z = 0, so $$g^*(y) = 0.$$\n"
      ]
    },
    {
      "cell_type": "markdown",
      "metadata": {
        "id": "nNOplJGnhY4D"
      },
      "source": [
        "#### c) Using the conjugate functions, write down the dual of the monotropic problem."
      ]
    },
    {
      "cell_type": "markdown",
      "metadata": {
        "id": "V84PFvWNhY4D"
      },
      "source": [
        "`Your answer here...`\n",
        "\n",
        "for this problem we will minimize $ f(x)+g(Ax-b).$ the dual is $\\max_y  -y^Tb -f^*(-A^Ty)-g^*(y).$ For the monotropic problem, we have $\\max_y  -y^Tb -\\chi_1(-A^Ty)-0$. which simplifies to $\\underset{y} {minimize}\\;y^Tb$ and $\\text{subject to} \\|A^Ty\\|_{1}\\leq 1$\n",
        "\n",
        "\n"
      ]
    },
    {
      "cell_type": "markdown",
      "metadata": {
        "id": "QKCB4fXbhY4E"
      },
      "source": [
        "# Problem 2:  Linear programming\n",
        "Consider the linear program\n",
        "\\begin{align*}\n",
        "\\text{minimize} \\quad &  c^T x \\\\\n",
        "\\text{subject to} \\quad & Ax=b\\\\\n",
        " & x\\ge 0.\n",
        "\\end{align*}\n",
        "\n",
        "#### a) Write the optimality conditions for this problem (i.e., the KKT system).  Your solution should contain 5 equations."
      ]
    },
    {
      "cell_type": "markdown",
      "metadata": {
        "id": "Xj-AznAlhY4E"
      },
      "source": [
        "`Your answer here...`\n",
        "\n",
        "The Lagrangian\n",
        "$$c^Tx+\\lambda^T(Ax-b)-\\eta^Tx$$\n",
        "\n",
        "For an optimal point $x^* \\in R^n$, the following KKT conditions must hold for some $\\lambda,\\eta$\n",
        "\n",
        "$c + A^T\\lambda - \\eta = 0$ (primal optimlaity)\n",
        "\n",
        "$ Ax^*-b = 0$ (primal feasability)\n",
        "\n",
        "$x^*\\ge 0$(primal feasability)\n",
        "\n",
        "$\\eta \\ge 0$ (dual feasibility)\n",
        "\n",
        "$\\eta^Tx^* = 0$ (Complementary slackness)\n"
      ]
    },
    {
      "cell_type": "markdown",
      "metadata": {
        "id": "JsomZngVhY4E"
      },
      "source": [
        "#### b) Write the Lagrangian for this problem.\n",
        "Use $\\lambda$ and $\\eta$ are your lagrange multipliers for the equality and inequality constraints, respectively."
      ]
    },
    {
      "cell_type": "markdown",
      "metadata": {
        "id": "yGDmzIprhY4E"
      },
      "source": [
        "`Your answer here...`\n",
        "\n",
        "$L(x,\\lambda,\\nu) = c^Tx + \\lambda^T(Ax-b) - \\eta^T x$"
      ]
    },
    {
      "cell_type": "markdown",
      "metadata": {
        "id": "Q1qDGyYfhY4E"
      },
      "source": [
        "#### c) Minimize out the primal variables in the Lagrangian, and write the dual formulation of this linear program."
      ]
    },
    {
      "cell_type": "markdown",
      "metadata": {
        "id": "rJ0t3g5ShY4E"
      },
      "source": [
        "`Your answer here...`\n",
        "\n",
        "The saddle point problem is\n",
        "$$\\min_x \\max_{\\lambda,\\eta} c^Tx + \\lambda^T(Ax−b)−\\eta^Tx$$\n",
        "\n",
        "If we minimize $x$ by taking the gradient of the Lagrangian with respect to $x$. At optimality, this is zero, and so $$c + A^T\\lambda−\\eta^T = 0$$.\n",
        "\n",
        "Maintaining dual feasibility,  $\\eta \\geq 0$, this equation only has a solution when $c+A^T\\lambda \\geq 0$. Plugging this into the Lagrangian, we now have\n",
        "\n",
        "$$\\max_{\\lambda} −\\lambda^Tb$$\n",
        " $$\\text{subject to } c + A^T\\lambda ≥ 0$$\n",
        "\n",
        "\n"
      ]
    },
    {
      "cell_type": "markdown",
      "metadata": {
        "id": "oQ1e-CExhY4E"
      },
      "source": [
        "# Problem 3: Sensitivity bound\n",
        "Consider the problem\n",
        "\\begin{align}\n",
        "\\text{minimize} \\quad &  f(x) \\\\\n",
        "\\text{subject to}\\quad & g(x) \\le 0.\n",
        "\\end{align}\n",
        "Let $x_0$ be a solution to this problem, and $\\lambda_0$ be the corresponding optimal Lagrange multiplier. Now, define a perturbed problem\n",
        "  \\begin{align}\n",
        "\\text{minimize}\\quad &  f(x) \\\\\n",
        "\\text{subject to}\\quad & g(x) \\le \\epsilon\n",
        "\\end{align}\n",
        "where $\\epsilon$ is a vector. Let $x_\\epsilon$ be a solution to the perturbed problem.  Note, if we put large negative values in $\\epsilon$, then  the constraint set gets smaller, and we expect the corresponding value of $f(x_\\epsilon)$ to increase.  \n",
        "\n",
        "Prove the \"sensitivity bound\"\n",
        "$$ f(x_0) -   \\lambda_0^T \\epsilon \\le f(x_\\epsilon). $$\n",
        "This bound shows that the Lagrange multipliers determine how much the objective increases as the vector $\\epsilon$ becomes more negative."
      ]
    },
    {
      "cell_type": "markdown",
      "metadata": {
        "id": "kzxvF4KzhY4E"
      },
      "source": [
        "`Your answer here...`\n",
        "\n",
        "The vector $x_0$ is the minimizer of the Lagrangian\n",
        "$$f(x) + \\lambda_{0}^Tg(x).$$\n",
        "It follows that\n",
        "$$f(x_\\epsilon) + \\lambda^T_{0} g(x_\\epsilon) \\ge f(x_0) + \\lambda^T_{0} g(x_0)$$\n",
        "Now note that, by complementary slackness, $\\lambda^T_0 g(x_0) = 0$, and so\n",
        "$$f(x_\\epsilon) + \\lambda^T_0 g(x_\\epsilon) \\ge f(x_0)$$\n",
        "which re-arranges to $$f(x_\\epsilon) \\ge f(x_0)−\\lambda^T_0 g(x_\\epsilon).$$\n",
        "Now, the dual parameters $\\lambda$ are enforcing an inequality constraint, and so $λ_0 \\ge 0$. Combining this with the fact that $g(x\\epsilon)\\le \\epsilon$, we get $$f(x_\\epsilon) \\ge f(x_0)−\\lambda^T_0 \\epsilon$$.\n"
      ]
    }
  ],
  "metadata": {
    "kernelspec": {
      "display_name": "Python 3",
      "language": "python",
      "name": "python3"
    },
    "language_info": {
      "codemirror_mode": {
        "name": "ipython",
        "version": 3
      },
      "file_extension": ".py",
      "mimetype": "text/x-python",
      "name": "python",
      "nbconvert_exporter": "python",
      "pygments_lexer": "ipython3",
      "version": "3.7.6"
    },
    "colab": {
      "provenance": []
    }
  },
  "nbformat": 4,
  "nbformat_minor": 0
}