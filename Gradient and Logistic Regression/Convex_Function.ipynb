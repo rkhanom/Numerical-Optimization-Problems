{
  "cells": [
    {
      "cell_type": "markdown",
      "metadata": {
        "id": "4bra5mjbo7qG"
      },
      "source": [
        "Convex Functions  \n",
        "\n",
        "Use either the slides, or Boyd $\\S$3.2 as a reference.\n"
      ]
    },
    {
      "cell_type": "markdown",
      "metadata": {
        "id": "3qTFCAmNo7qG"
      },
      "source": [
        "# Problem 1\n",
        "For this problem, you may use any of the results/rules from the lecture slides.\n",
        "\n",
        "### (a) Consider the function\n",
        " $$f(x) = \\begin{cases}\n",
        "0, \\text{ if } x<0\\\\\n",
        "\\infty , \\text{ if } x\\ge 0\\\\\n",
        "\\end{cases}.$$\n",
        "\n",
        "Is this function closed and proper?"
      ]
    },
    {
      "cell_type": "markdown",
      "metadata": {
        "id": "FUipstrJo7qG"
      },
      "source": [
        "*Your work here*\n",
        "\n",
        "The function f(x) defined as:\n",
        "\n",
        "$$f(x) = \\begin{cases}\n",
        "0, \\text{ if } x<0\\\\\n",
        "\\infty , \\text{ if } x\\ge 0\\\\\n",
        "\\end{cases}.$$\n",
        "\n",
        "is neither closed nor proper.\n",
        "\n",
        "A function is said to be closed if its graph includes all of its limit points. In this case, the limit point of f(x) as x approaches 0 from the negative side is 0, and the limit point as x approaches 0 from the positive side is infinity. However, the function does not include these limit points in its range, so it is not closed.\n",
        "\n",
        "A function is said to be proper if its range is bounded from below and does not include infinity. In this case, the function takes on the value of 0 for all x less than 0 and the value of infinity for all x greater than or equal to 0. Thus, the range of the function is unbounded from above, and the function is not proper.\n",
        "\n",
        "Therefore, the function f(x) is neither closed nor proper.\n",
        "\n"
      ]
    },
    {
      "cell_type": "markdown",
      "metadata": {
        "id": "3ThvMc3go7qG"
      },
      "source": [
        "### (b) Consider the set of $n\\times n$ low-rank matrices $\\{A\\in\\mathbb{R}^{n\\times n} | \\, \\text{rank}(A)\\le k \\},$ where $0<k<n$.   Is this set convex?  Why?"
      ]
    },
    {
      "cell_type": "markdown",
      "metadata": {
        "id": "SaHVmL63o7qH"
      },
      "source": [
        "*Your work here*\n",
        "\n",
        "This set is non-convex.\n",
        "\n",
        "This can be proved by showing a counter-example.\n",
        "\n",
        "Let, $A,B \\in C$,\n",
        "\n",
        "\n",
        "\\begin{align}\n",
        "rank(\\theta A+(1-\\theta) B)\\leq rank (\\theta A) +rank ((1-\\theta)B)< 2k \\tag*{1}\n",
        "\\end{align}\n",
        "Now, for k=1,\n",
        "\n",
        "\\begin{align}\n",
        "&\\begin{bmatrix}\n",
        "1 & 0\\\\\n",
        "0 & 0\n",
        "\\end{bmatrix}\n",
        "+\n",
        "\\begin{bmatrix}\n",
        "0 & 0\\\\\n",
        "0 & 1\n",
        "\\end{bmatrix}\\\\[0.8ex]\n",
        "=&\\begin{bmatrix}\n",
        "1 & 0\\\\\n",
        "0 & 1\n",
        "\\end{bmatrix}\n",
        "\\end{align}  \n",
        "\n",
        "Here, the resultant matrix is of Rank 2, while the original matrices both were of Rank 1. This is in contradiction with (1). So this set is not convex."
      ]
    },
    {
      "cell_type": "markdown",
      "metadata": {
        "id": "RSjXbmUYo7qH"
      },
      "source": [
        "### (c) Suppose $\\{A_i\\}$ are matrices of identical size.  Define the set $$\\{X \\,\\,|\\,\\,  \\text{trace}(A_i^T X A_i) \\le 0, \\,\\, \\forall i \\}.$$\n",
        "Is this set of matrices convex?"
      ]
    },
    {
      "cell_type": "markdown",
      "metadata": {
        "id": "MzDoHP4Fo7qH"
      },
      "source": [
        "*Your work here*\n",
        "\n",
        "Yes it is convex.\n",
        "The set of matrices $$\\{X \\,\\,|\\,\\,  \\text{trace}(A_i^T X A_i) \\le 0, \\,\\, \\forall i \\} $$ is a set of matrices that satisfy a certain condition. This condition involves the trace of a product of matrices involving X and some fixed matrices Ai.\n",
        "\n",
        "The set is convex, which means that if we take any two matrices X and Y that satisfy the condition, then any convex combination of X and Y (i.e., any matrix Z of the form Z = tX + (1-t)Y, where t is a number between 0 and 1) also satisfies the condition.\n",
        "\n",
        "To show this, we can use the fact that the trace is a linear function and that the trace of a product of matrices is invariant under cyclic permutations. Using these properties, we can show that if X and Y satisfy the condition for all Ai, then any convex combination Z also satisfies the condition for all Ai.\n",
        "\n",
        "Therefore, the set of matrices $$\\{X \\,\\,|\\,\\,  \\text{trace}(A_i^T X A_i) \\le 0, \\,\\, \\forall i \\}.$$ is convex.\n"
      ]
    },
    {
      "cell_type": "markdown",
      "metadata": {
        "id": "1VLzbxKSo7qH"
      },
      "source": [
        "### (d) Let $C \\subset \\mathbb{R}^n$ be a compact (closed and bounded), non-empty convex set.  For a scalar $x,$ let C(x) be the set of all points in $C$ whose first coordinate is closer to x than any other point. More precisely: $C(x)=\\{a\\in C \\, |\\,  \\forall b \\in C , |a_1-x|\\le |b_1-x|  \\}.$  Is $C(x)$ a convex set for any choice of $x$? Why?"
      ]
    },
    {
      "cell_type": "markdown",
      "metadata": {
        "id": "jmKbDaJSo7qH"
      },
      "source": [
        "*Your work here*\n",
        "\n",
        "Let, $m,n \\in C(x)$,\n",
        "\n",
        "now,\n",
        "\n",
        "\\begin{align}\n",
        "&|a_{1}-x|=|\\theta m_{1}+(1-\\theta) n_{1}-x|\\\\\n",
        "&=|\\theta (m_{1}-x)+(1-\\theta) (n_{1}-x)|\\\\\n",
        "&\\leq \\theta|(m_{1}-x)|+(1-\\theta)|(n_{1}-x)| \\tag*{[Triangle Inequality]}\\\\\n",
        "& \\leq \\theta|b_{1}-x|+(1-\\theta)|b_{1}-x| \\tag*{Given}\\\\\n",
        "&=|b_{1}-x|\n",
        "\\end{align}\n",
        "\n",
        "So, $C(x)$ is convex set for any choice of $x$.\n",
        "\n"
      ]
    },
    {
      "cell_type": "markdown",
      "metadata": {
        "id": "ybPmDXv5o7qH"
      },
      "source": [
        "### (e)  Let $\\|\\cdot\\|$ be the vector 2-norm.  Is the set $C = \\{(x,y)\\, |\\,\\, \\|x\\| \\le  y \\}$ convex?  Is it a cone?  Why?  What about the set $C = \\{(x,y)\\, |\\,\\, \\|x\\|^2 \\le  y \\}?$  Is this convex? Is this a  cone?  Here, $x$ is a vector and $y$ is a scalar."
      ]
    },
    {
      "cell_type": "markdown",
      "metadata": {
        "id": "GmgAcNA4o7qH"
      },
      "source": [
        "*Your work here*\n",
        "\n",
        "Let $(x,y)\\in C$and $(x',y') \\in C$.\n",
        "\n",
        "The first set, $C = \\{(x,y)\\, |\\,\\, \\|x\\| \\le  y \\}$ is convex because\n",
        "\n",
        "\\begin{align}\n",
        "&\\|\\theta x'+(1-\\theta) x \\|\\\\\n",
        "\\leq& \\theta \\|x'\\|+(1-\\theta)\\|x\\| \\tag*{[Triangle Inequality]}\\\\\n",
        "\\leq& \\theta y' + (1-\\theta)y\n",
        "\\end{align}\n",
        "Hence Proved.\n",
        "\n",
        "The second set, $C = \\{(x,y)\\, |\\,\\, \\|x\\|^2 \\le  y \\}$ is convex because\n",
        "\\begin{align}\n",
        "&\\|\\theta x'+(1-\\theta) x \\|^{2}\\\\\n",
        "\\leq& \\theta \\|x'\\|^{2}+(1-\\theta)\\|x\\|^{2} \\tag*{[Jensen's Inequality]}\\\\\n",
        "\\leq& \\theta y' + (1-\\theta)y\n",
        "\\end{align}\n",
        "Hence Proved.\n",
        "\n",
        "\n",
        "First set is a cone because\n",
        "\\begin{align}\n",
        "\\|x\\|\\leq y= \\alpha\\|x\\|\\leq \\alpha y\\implies \\|\\alpha x\\| \\leq \\alpha y\n",
        "\\end{align}\n",
        "\n",
        "Second set is not a cone because\n",
        "\n",
        "\\begin{align}\n",
        "\\|x\\|^{2}\\leq y= \\alpha\\|x\\|^{2}\\leq \\alpha y\\\\\n",
        "\\end{align}\n",
        "but $\\|\\alpha x\\|^{2}=\\alpha^{2}\\|x\\|^{2}$\n",
        "and this does not imply\n",
        "\n",
        "\\begin{align}\n",
        "\\|\\alpha x\\|^{2} \\leq \\alpha y\n",
        "\\end{align}\n",
        "\n"
      ]
    },
    {
      "cell_type": "markdown",
      "metadata": {
        "id": "ErTuvswTo7qI"
      },
      "source": [
        "## Problem 2\n",
        "### (a) Suppose the function $f(x,y)$ is convex.  Prove that\n",
        "  $$g(x) = \\min_y f(x,y)$$\n",
        "  is also convex, where $x,y\\in \\mathbb{R}^n.$\n"
      ]
    },
    {
      "cell_type": "markdown",
      "metadata": {
        "id": "PANcc9eRo7qI"
      },
      "source": [
        "*Your work here*\n",
        "\n",
        "Here,\n",
        "\\begin{align}\n",
        "g(\\theta x_{1}+(1-\\theta) x_{2})&= \\min_y f(\\theta x_{1}+(1-\\theta) x_{2},y)\\\\\n",
        "&= \\min_y f(\\theta x_{1}+(1-\\theta) x_{2},\\theta y_{1}+(1-\\theta) y_{2})\\\\\n",
        "&= \\min_y \\theta f(x_{1},y_{1}) +(1-\\theta) f(x_{2},y_{2}) \\tag*{Jensen's inequaity}\\\\\n",
        "&= \\min_y \\theta f(x_{1},y_{1}) +\\min_y(1-\\theta) f(x_{2},y_{2})\\\\\n",
        "&=\\theta g(x_{1})+(1-\\theta)g(x_{2})\n",
        "\\end{align}\n",
        "\n",
        "So $g$ is convex\n"
      ]
    },
    {
      "cell_type": "markdown",
      "metadata": {
        "id": "P3A5QCu4o7qI"
      },
      "source": [
        "### (b)  Suppose $f$ is strongly convex.  Show that the gradient of $f$ is strongly monotone, i.e., there is a constant $m>0$ with\n",
        "  $$ \\langle x-y,\\nabla f(x) - \\nabla f(y) \\rangle \\ge m\\|x-y\\|^2.$$\n"
      ]
    },
    {
      "cell_type": "markdown",
      "source": [],
      "metadata": {
        "id": "gZOxjGYJDwx2"
      }
    },
    {
      "cell_type": "markdown",
      "metadata": {
        "id": "iRHWepJ9o7qI"
      },
      "source": [
        "*Your work here*\n",
        "\n",
        "By the definition of strong convexity\n",
        "\n",
        "$f(y)\\geq f(x)+(y-x)^{T}\\nabla f(x)+\\frac{m}{2}\\|y-x\\|^{2}\\tag*{1}$\n",
        "\n",
        "We also have\n",
        "\n",
        "$f(x)\\geq f(y)+(x-y)^{T}\\nabla f(y)+\\frac{m}{2}\\|x-y\\|^{2}\\tag*{2}$\n",
        "\n",
        "From (1) + (2),and cancelling terms,\n",
        "\n",
        "$$0\\geq(x-y)^{T}(\\nabla f(y)-\\nabla f(x))+m\\|x-y\\|^{2}$$\n",
        "\n",
        "\n",
        "Rearranging the terms,\n",
        "\n",
        "$$(x-y)^{T}(\\nabla f(y)-\\nabla f(x))\\geq m\\|x-y\\|^{2}$$\n",
        "\n",
        "So,\n",
        "\n",
        "$$\\langle x-y,\\nabla f(x) - \\nabla f(y) \\rangle\\geq m\\|x-y\\|^{2}$$\n",
        "\n",
        "Hence Proved."
      ]
    },
    {
      "cell_type": "markdown",
      "metadata": {
        "id": "fZkwqF2To7qI"
      },
      "source": [
        "# Problem 3\n",
        " Suppose that $g(x)$ is convex and $h(x)$ is concave (i.e. $-h(x)$ is convex).  Suppose we restrict both functions into a closed, convex set $C$ such that both $g(x)$ and $h(x)$ are always positive when $x \\in C.$  Prove that the function\n",
        "  $f(x) = g(x)/h(x)$\n",
        "  is quasi-convex.  (note: It follows that every local minimum is also global)\n",
        "\n"
      ]
    },
    {
      "cell_type": "markdown",
      "metadata": {
        "id": "3XADebpuo7qI"
      },
      "source": [
        "*Your work here*\n",
        "\n",
        "Consider the sub-level set 𝑆𝛼={𝑥|𝑓(𝑥)≤𝛼} for some 𝛼≥0 . If 𝑥∈𝑆𝛼, then we have:\n",
        "\n",
        "𝑔(𝑥)/ℎ(𝑥)≤𝛼 ⟹ 𝑔(𝑥)≤𝛼ℎ(𝑥) ⟹ 𝑔(𝑥)−𝛼ℎ(𝑥)≤0\n",
        "\n",
        "Note that 𝑔(𝑥)−𝛼ℎ(𝑥) is convex since 𝑔(𝑥) is convex and −ℎ(𝑥) is convex as well (by definition). Also, because 𝛼≥0 , the function 𝑔(𝑥)−𝛼ℎ(𝑥) is greater than or equal to 𝑔(𝑥) , so the sub-level set 𝑆𝛼 is a sub-level set of the convex function 𝑔(𝑥)−𝛼ℎ(𝑥) .\n",
        "\n",
        "Therefore, by definition of sub-level set, the set 𝑆𝛼 is convex, and we have shown that every sub-level set of 𝑓(𝑥) is convex. Thus, 𝑓(𝑥) is quasi-convex, and every local minimum is also a global minimum.\n"
      ]
    }
  ],
  "metadata": {
    "kernelspec": {
      "display_name": "Python 3",
      "language": "python",
      "name": "python3"
    },
    "language_info": {
      "codemirror_mode": {
        "name": "ipython",
        "version": 3
      },
      "file_extension": ".py",
      "mimetype": "text/x-python",
      "name": "python",
      "nbconvert_exporter": "python",
      "pygments_lexer": "ipython3",
      "version": "3.7.6"
    },
    "colab": {
      "provenance": []
    }
  },
  "nbformat": 4,
  "nbformat_minor": 0
}